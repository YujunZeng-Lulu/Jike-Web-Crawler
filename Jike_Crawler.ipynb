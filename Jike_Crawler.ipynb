{
 "cells": [
  {
   "cell_type": "code",
   "execution_count": null,
   "id": "480046bb",
   "metadata": {},
   "outputs": [],
   "source": [
    "! pip install selenium\n",
    "! pip install webdriver_manager\n",
    "! pip install tqdm"
   ]
  },
  {
   "cell_type": "code",
   "execution_count": 31,
   "id": "51880ba7",
   "metadata": {},
   "outputs": [
    {
     "name": "stdout",
     "output_type": "stream",
     "text": [
      "can't find JikeProductList_Overall.csv\n"
     ]
    },
    {
     "name": "stderr",
     "output_type": "stream",
     "text": [
      "100%|██████████| 100/100 [04:14<00:00,  2.54s/it]\n"
     ]
    }
   ],
   "source": [
    "from selenium import webdriver\n",
    "from selenium.webdriver.chrome.service import Service\n",
    "from webdriver_manager.chrome import ChromeDriverManager\n",
    "from selenium.webdriver.common.by import By\n",
    "from tqdm import trange\n",
    "import pandas as pd\n",
    "\n",
    "# Number of iterations\n",
    "n = 100\n",
    "\n",
    "# Setup webdriver\n",
    "s=Service(ChromeDriverManager().install())\n",
    "driver = webdriver.Chrome(service=s)\n",
    "results_overall = pd.DataFrame(columns=[\"App_Name\",\"App_Description\"])\n",
    "try:\n",
    "    results_overall = pd.read_csv(\"JikeProductList_Overall.csv\")\n",
    "except Exception:\n",
    "    print(\"can't find JikeProductList_Overall.csv\")\n",
    "\n",
    "names, infos = [], []\n",
    "for i in trange(n):\n",
    "    # Get the website\n",
    "    driver.get('https://h5.ruguoapp.com/jk-product-launch-event/today')\n",
    "\n",
    "    # Wait for the dynamic content to load\n",
    "    driver.implicitly_wait(15)\n",
    "\n",
    "    # Find elements by class (replace 'class-name' with actual class name of products)\n",
    "    products_names = driver.find_elements(By.CLASS_NAME, 'css-16zuhbc')#css-9mjnpt\n",
    "    products_infos = driver.find_elements(By.CLASS_NAME, 'css-9mjnpt')#css-9mjnpt\n",
    "    # Extract and print product details\n",
    "    for product_name, product_info in zip(products_names, products_infos):\n",
    "    #    print(product_name.text, product_info.text)  # or any other operation you want to perform\n",
    "        if product_name.text not in results_overall.App_Name and product_name.text not in names and product_name.text:\n",
    "            names.append(product_name.text)\n",
    "            infos.append(product_info.text)\n",
    "    # Close the driver\n",
    "driver.quit()\n",
    "\n",
    "results_new = pd.DataFrame({\"App_Name\":names, \"App_Description\":infos})\n",
    "results_overall = pd.concat([results_new,results_overall])\n",
    "\n",
    "results_overall.to_csv(\"JikeProductList_Overall.csv\",index=False,encoding=\"utf_8_sig\")\n",
    "results_new.to_csv(\"JikeProductList_\"+str(pd.to_datetime(\"today\").date())+\".csv\",index=False,encoding=\"utf_8_sig\")"
   ]
  },
  {
   "cell_type": "code",
   "execution_count": 37,
   "id": "e24ea9be",
   "metadata": {},
   "outputs": [
    {
     "data": {
      "text/html": [
       "<div>\n",
       "<style scoped>\n",
       "    .dataframe tbody tr th:only-of-type {\n",
       "        vertical-align: middle;\n",
       "    }\n",
       "\n",
       "    .dataframe tbody tr th {\n",
       "        vertical-align: top;\n",
       "    }\n",
       "\n",
       "    .dataframe thead th {\n",
       "        text-align: right;\n",
       "    }\n",
       "</style>\n",
       "<table border=\"1\" class=\"dataframe\">\n",
       "  <thead>\n",
       "    <tr style=\"text-align: right;\">\n",
       "      <th></th>\n",
       "      <th>App_Name</th>\n",
       "      <th>App_Description</th>\n",
       "    </tr>\n",
       "  </thead>\n",
       "  <tbody>\n",
       "    <tr>\n",
       "      <th>0</th>\n",
       "      <td>就诊问问</td>\n",
       "      <td>医疗健康问问，随口问一问</td>\n",
       "    </tr>\n",
       "    <tr>\n",
       "      <th>1</th>\n",
       "      <td>我的Yumi</td>\n",
       "      <td>Yumi是一款AI趣味社交内容生成小程序</td>\n",
       "    </tr>\n",
       "    <tr>\n",
       "      <th>2</th>\n",
       "      <td>NexT Todo</td>\n",
       "      <td>专注于实现高效的时间管理</td>\n",
       "    </tr>\n",
       "    <tr>\n",
       "      <th>3</th>\n",
       "      <td>Arrrt-随身艺术馆</td>\n",
       "      <td>每天邂逅一幅名画（iOS&amp;Android）</td>\n",
       "    </tr>\n",
       "    <tr>\n",
       "      <th>4</th>\n",
       "      <td>Emote — AI智能聊天笔记</td>\n",
       "      <td>AI赋能笔记，简单好用又智能</td>\n",
       "    </tr>\n",
       "    <tr>\n",
       "      <th>...</th>\n",
       "      <td>...</td>\n",
       "      <td>...</td>\n",
       "    </tr>\n",
       "    <tr>\n",
       "      <th>975</th>\n",
       "      <td>金山文档</td>\n",
       "      <td>金山办公旗下智能文档产品</td>\n",
       "    </tr>\n",
       "    <tr>\n",
       "      <th>976</th>\n",
       "      <td>发票盒子</td>\n",
       "      <td>自动收集发票，智能整理发票</td>\n",
       "    </tr>\n",
       "    <tr>\n",
       "      <th>977</th>\n",
       "      <td>心光</td>\n",
       "      <td>AI 生活记录伴侣</td>\n",
       "    </tr>\n",
       "    <tr>\n",
       "      <th>978</th>\n",
       "      <td>Mlink.cc米现链接</td>\n",
       "      <td>一链·链所有</td>\n",
       "    </tr>\n",
       "    <tr>\n",
       "      <th>979</th>\n",
       "      <td>爱语法</td>\n",
       "      <td>智能分析英语语法，爱上英语语法，从未如此热爱英语。</td>\n",
       "    </tr>\n",
       "  </tbody>\n",
       "</table>\n",
       "<p>980 rows × 2 columns</p>\n",
       "</div>"
      ],
      "text/plain": [
       "             App_Name            App_Description\n",
       "0                就诊问问               医疗健康问问，随口问一问\n",
       "1              我的Yumi       Yumi是一款AI趣味社交内容生成小程序\n",
       "2           NexT Todo               专注于实现高效的时间管理\n",
       "3         Arrrt-随身艺术馆      每天邂逅一幅名画（iOS&Android）\n",
       "4    Emote — AI智能聊天笔记             AI赋能笔记，简单好用又智能\n",
       "..                ...                        ...\n",
       "975              金山文档               金山办公旗下智能文档产品\n",
       "976              发票盒子              自动收集发票，智能整理发票\n",
       "977                心光                  AI 生活记录伴侣\n",
       "978      Mlink.cc米现链接                     一链·链所有\n",
       "979               爱语法  智能分析英语语法，爱上英语语法，从未如此热爱英语。\n",
       "\n",
       "[980 rows x 2 columns]"
      ]
     },
     "execution_count": 37,
     "metadata": {},
     "output_type": "execute_result"
    }
   ],
   "source": [
    "results_new"
   ]
  },
  {
   "cell_type": "code",
   "execution_count": 39,
   "id": "bf5ec7b9",
   "metadata": {},
   "outputs": [],
   "source": [
    "results_new.drop_duplicates(\"App_Name\").to_csv(\"JikeProductList_\"+str(pd.to_datetime(\"today\").date())+\".csv\",index=False,encoding=\"utf_8_sig\")\n",
    "results_overall.drop_duplicates(\"App_Name\").to_csv(\"JikeProductList_Overall.csv\",index=False,encoding=\"utf_8_sig\")"
   ]
  }
 ],
 "metadata": {
  "kernelspec": {
   "display_name": "Python 3 (ipykernel)",
   "language": "python",
   "name": "python3"
  },
  "language_info": {
   "codemirror_mode": {
    "name": "ipython",
    "version": 3
   },
   "file_extension": ".py",
   "mimetype": "text/x-python",
   "name": "python",
   "nbconvert_exporter": "python",
   "pygments_lexer": "ipython3",
   "version": "3.10.9"
  }
 },
 "nbformat": 4,
 "nbformat_minor": 5
}
